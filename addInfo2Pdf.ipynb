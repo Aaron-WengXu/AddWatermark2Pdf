{
 "cells": [
  {
   "cell_type": "code",
   "execution_count": 1,
   "metadata": {},
   "outputs": [],
   "source": [
    "# Import library\n",
    "import PyPDF2\n",
    "import io\n",
    "from reportlab.lib.pagesizes import letter\n",
    "from reportlab.pdfgen import canvas\n",
    "from reportlab.pdfbase import pdfmetrics\n",
    "from reportlab.pdfbase.ttfonts import TTFont\n",
    "import csv\n",
    "pdfmetrics.registerFont(TTFont('Crimson-Regular', 'CrimsonText-Regular.ttf'))\n",
    "\n",
    "# Copyright@ Xu (Aaron) Weng"
   ]
  },
  {
   "cell_type": "code",
   "execution_count": 21,
   "metadata": {},
   "outputs": [],
   "source": [
    "# Function to fill the PDF template with data\n",
    "def fill_pdf_template(pdf_template_path, output_pdfs, row_index, row):\n",
    "    output_pdf_path = f\"{output_pdfs}/Admin_{row_index}.pdf\"\n",
    "    \n",
    "    pdf_reader = PyPDF2.PdfReader(open(pdf_template_path, \"rb\"))\n",
    "    pdf_writer = PyPDF2.PdfWriter()\n",
    "\n",
    "    # Read template\n",
    "    content_page = pdf_reader.pages[0]\n",
    "    mediabox = content_page.mediabox\n",
    "    \n",
    "    # New a pdf with words\n",
    "    packet = io.BytesIO()\n",
    "    can = canvas.Canvas(packet, pagesize=(mediabox.width, mediabox.height))\n",
    "    name = row[0]\n",
    "    title = row[1]\n",
    "\n",
    "    # locations of words need to be customized\n",
    "    x_coordinate1 = round(mediabox.width/2 - len(name)/2*30) #1100\n",
    "    y_coordinate1 = 1650\n",
    "\n",
    "    x_coordinate2 = round(mediabox.width/2 - len(title)/2*30)-50 #800\n",
    "    y_coordinate2 = 1160\n",
    "\n",
    "\n",
    "    can.setFont(\"Crimson-Regular\", 80)  # Customize the font and size\n",
    "    can.drawString(x_coordinate1, y_coordinate1, name)\n",
    "    can.drawString(x_coordinate2, y_coordinate2, title)\n",
    "    can.save()    \n",
    "    #move to the beginning of the StringIO buffer\n",
    "    packet.seek(0)\n",
    "    new_pdf = PyPDF2.PdfReader(packet)\n",
    "\n",
    "    # Merge two pdf  \n",
    "    content_page.merge_page(new_pdf.pages[0])\n",
    "    content_page.mediabox = mediabox\n",
    "    pdf_writer.add_page(content_page)\n",
    "    # pdf_writer.add_page(new_pdf.pages[0])\n",
    "\n",
    "    # finally, write \"output\" to a real file\n",
    "    output_stream = open(output_pdf_path, \"wb\")\n",
    "    pdf_writer.write(output_stream)\n",
    "    output_stream.close()"
   ]
  },
  {
   "cell_type": "code",
   "execution_count": null,
   "metadata": {},
   "outputs": [],
   "source": [
    "# Read data from the CSV file and generate filled PDFs\n",
    "csv_filename = \"Admin.csv\"  # Replace with your CSV file path\n",
    "template_pdf_path = \"template.pdf\"  # Replace with your PDF template file path\n",
    "output_folder = \"Admin\"  # Replace with the desired output folder\n",
    "\n",
    "with open(csv_filename, 'r') as csv_filename:\n",
    "        csvreader = csv.reader(csv_filename)\n",
    "        for row_index, row in enumerate(csvreader, start=1):\n",
    "            fill_pdf_template(template_pdf_path, output_folder, row_index, row)\n",
    "\n",
    "print(\"Filled PDFs created successfully.\")"
   ]
  }
 ],
 "metadata": {
  "kernelspec": {
   "display_name": "base",
   "language": "python",
   "name": "python3"
  },
  "language_info": {
   "codemirror_mode": {
    "name": "ipython",
    "version": 3
   },
   "file_extension": ".py",
   "mimetype": "text/x-python",
   "name": "python",
   "nbconvert_exporter": "python",
   "pygments_lexer": "ipython3",
   "version": "3.10.9"
  },
  "orig_nbformat": 4
 },
 "nbformat": 4,
 "nbformat_minor": 2
}
